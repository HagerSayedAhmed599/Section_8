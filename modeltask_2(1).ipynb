{
 "cells": [
  {
   "cell_type": "code",
   "execution_count": 3,
   "id": "93b2fd80-bb88-454a-9fe0-a9305cd363d7",
   "metadata": {},
   "outputs": [
    {
     "name": "stdout",
     "output_type": "stream",
     "text": [
      "Collecting cobra\n",
      "  Downloading cobra-0.24.0-py2.py3-none-any.whl (2.6 MB)\n",
      "Collecting pydantic~=1.6\n",
      "  Downloading pydantic-1.9.0-cp39-cp39-win_amd64.whl (2.1 MB)\n",
      "Requirement already satisfied: numpy~=1.13 in c:\\users\\electronica care\\anaconda3\\lib\\site-packages (from cobra) (1.20.3)\n",
      "Requirement already satisfied: pandas~=1.0 in c:\\users\\electronica care\\anaconda3\\lib\\site-packages (from cobra) (1.3.4)\n",
      "Collecting rich>=8.0\n",
      "  Downloading rich-12.0.0-py3-none-any.whl (224 kB)\n",
      "Requirement already satisfied: appdirs~=1.4 in c:\\users\\electronica care\\anaconda3\\lib\\site-packages (from cobra) (1.4.4)\n",
      "Collecting httpx~=0.14\n",
      "  Downloading httpx-0.22.0-py3-none-any.whl (84 kB)\n",
      "Collecting importlib-resources\n",
      "  Downloading importlib_resources-5.4.0-py3-none-any.whl (28 kB)\n",
      "Collecting swiglpk\n",
      "  Downloading swiglpk-5.0.4-cp39-cp39-win_amd64.whl (567 kB)\n",
      "Collecting depinfo~=1.7\n",
      "  Downloading depinfo-1.7.0-py2.py3-none-any.whl (8.6 kB)\n",
      "Collecting optlang~=1.5\n",
      "  Downloading optlang-1.5.2-py2.py3-none-any.whl (147 kB)\n",
      "Collecting python-libsbml==5.19.2\n",
      "  Downloading python_libsbml-5.19.2-cp39-cp39-win_amd64.whl (4.9 MB)\n",
      "Collecting ruamel.yaml~=0.16\n",
      "  Downloading ruamel.yaml-0.17.21-py3-none-any.whl (109 kB)\n",
      "Collecting diskcache~=5.0\n",
      "  Downloading diskcache-5.4.0-py3-none-any.whl (44 kB)\n",
      "Requirement already satisfied: future in c:\\users\\electronica care\\anaconda3\\lib\\site-packages (from cobra) (0.18.2)\n",
      "Requirement already satisfied: charset-normalizer in c:\\users\\electronica care\\anaconda3\\lib\\site-packages (from httpx~=0.14->cobra) (2.0.4)\n",
      "Collecting rfc3986[idna2008]<2,>=1.3\n",
      "  Downloading rfc3986-1.5.0-py2.py3-none-any.whl (31 kB)\n",
      "Collecting httpcore<0.15.0,>=0.14.5\n",
      "  Downloading httpcore-0.14.7-py3-none-any.whl (68 kB)\n",
      "Requirement already satisfied: sniffio in c:\\users\\electronica care\\anaconda3\\lib\\site-packages (from httpx~=0.14->cobra) (1.2.0)\n",
      "Requirement already satisfied: certifi in c:\\users\\electronica care\\anaconda3\\lib\\site-packages (from httpx~=0.14->cobra) (2021.10.8)\n",
      "Collecting anyio==3.*\n",
      "  Downloading anyio-3.5.0-py3-none-any.whl (79 kB)\n",
      "Collecting h11<0.13,>=0.11\n",
      "  Downloading h11-0.12.0-py3-none-any.whl (54 kB)\n",
      "Requirement already satisfied: idna>=2.8 in c:\\users\\electronica care\\anaconda3\\lib\\site-packages (from anyio==3.*->httpcore<0.15.0,>=0.14.5->httpx~=0.14->cobra) (3.2)\n",
      "Requirement already satisfied: sympy>=1.0 in c:\\users\\electronica care\\anaconda3\\lib\\site-packages (from optlang~=1.5->cobra) (1.9)\n",
      "Requirement already satisfied: six>=1.9 in c:\\users\\electronica care\\anaconda3\\lib\\site-packages (from optlang~=1.5->cobra) (1.16.0)\n",
      "Requirement already satisfied: python-dateutil>=2.7.3 in c:\\users\\electronica care\\anaconda3\\lib\\site-packages (from pandas~=1.0->cobra) (2.8.2)\n",
      "Requirement already satisfied: pytz>=2017.3 in c:\\users\\electronica care\\anaconda3\\lib\\site-packages (from pandas~=1.0->cobra) (2021.3)\n",
      "Requirement already satisfied: typing-extensions>=3.7.4.3 in c:\\users\\electronica care\\anaconda3\\lib\\site-packages (from pydantic~=1.6->cobra) (3.10.0.2)\n",
      "Collecting commonmark<0.10.0,>=0.9.0\n",
      "  Downloading commonmark-0.9.1-py2.py3-none-any.whl (51 kB)\n",
      "Requirement already satisfied: pygments<3.0.0,>=2.6.0 in c:\\users\\electronica care\\anaconda3\\lib\\site-packages (from rich>=8.0->cobra) (2.10.0)\n",
      "Collecting ruamel.yaml.clib>=0.2.6\n",
      "  Downloading ruamel.yaml.clib-0.2.6-cp39-cp39-win_amd64.whl (118 kB)\n",
      "Requirement already satisfied: mpmath>=0.19 in c:\\users\\electronica care\\anaconda3\\lib\\site-packages (from sympy>=1.0->optlang~=1.5->cobra) (1.2.1)\n",
      "Requirement already satisfied: zipp>=3.1.0 in c:\\users\\electronica care\\anaconda3\\lib\\site-packages (from importlib-resources->cobra) (3.6.0)\n",
      "Installing collected packages: rfc3986, h11, anyio, swiglpk, ruamel.yaml.clib, httpcore, commonmark, ruamel.yaml, rich, python-libsbml, pydantic, optlang, importlib-resources, httpx, diskcache, depinfo, cobra\n",
      "  Attempting uninstall: anyio\n",
      "    Found existing installation: anyio 2.2.0\n",
      "    Uninstalling anyio-2.2.0:\n",
      "      Successfully uninstalled anyio-2.2.0\n",
      "Successfully installed anyio-3.5.0 cobra-0.24.0 commonmark-0.9.1 depinfo-1.7.0 diskcache-5.4.0 h11-0.12.0 httpcore-0.14.7 httpx-0.22.0 importlib-resources-5.4.0 optlang-1.5.2 pydantic-1.9.0 python-libsbml-5.19.2 rfc3986-1.5.0 rich-12.0.0 ruamel.yaml-0.17.21 ruamel.yaml.clib-0.2.6 swiglpk-5.0.4\n"
     ]
    }
   ],
   "source": [
    "!pip install cobra"
   ]
  },
  {
   "cell_type": "code",
   "execution_count": 4,
   "id": "632e0f00-be81-444d-b3fb-7450881fef3f",
   "metadata": {},
   "outputs": [],
   "source": [
    "import cobra"
   ]
  },
  {
   "cell_type": "code",
   "execution_count": 5,
   "id": "32949aa9-8c5d-4a27-b4de-0ad62cbb0bcd",
   "metadata": {},
   "outputs": [],
   "source": [
    "from cobra import Model,Reaction,Metabolite"
   ]
  },
  {
   "cell_type": "code",
   "execution_count": 6,
   "id": "8e0e2124-176d-4109-ac54-bb33ab546447",
   "metadata": {},
   "outputs": [],
   "source": [
    "model=Model('model_2')"
   ]
  },
  {
   "cell_type": "code",
   "execution_count": 7,
   "id": "37fea108-d48f-48e5-b89a-abcbd0d4c667",
   "metadata": {},
   "outputs": [],
   "source": [
    "n0=Reaction('n0')\n",
    "n0.name='n0'\n",
    "n0.lower_bound=1\n",
    "n0.upper_bound=1\n",
    "\n",
    "n1=Reaction('n1')\n",
    "n1.name='n1'\n",
    "n1.lower_bound=0\n",
    "n1.upper_bound=1000\n",
    "\n",
    "n2=Reaction('n2')\n",
    "n2.name='n2'\n",
    "n2.lower_bound=0\n",
    "n2.upper_bound=1000\n",
    "\n",
    "n3=Reaction('n3')\n",
    "n3.name='n3'\n",
    "n3.lower_bound=0\n",
    "n3.upper_bound=1000"
   ]
  },
  {
   "cell_type": "code",
   "execution_count": 9,
   "id": "670e74d0-7044-4592-a90f-6fea14ffeb18",
   "metadata": {},
   "outputs": [],
   "source": [
    "glc=Metabolite('glc',compartment='c')\n",
    "AA=Metabolite('AA',compartment='c')\n",
    "Biomass=Metabolite('Biomass',compartment='c')\n",
    "ATP=Metabolite('ATP',compartment='c')"
   ]
  },
  {
   "cell_type": "code",
   "execution_count": 10,
   "id": "fa23b744-5f52-4ff8-a008-a576f2054d72",
   "metadata": {},
   "outputs": [],
   "source": [
    "n0.add_metabolites({glc:1})"
   ]
  },
  {
   "cell_type": "code",
   "execution_count": 11,
   "id": "67f71008-a918-4cf5-aba1-06898fcb3757",
   "metadata": {},
   "outputs": [],
   "source": [
    "n1.add_metabolites({glc:-1,AA:1})"
   ]
  },
  {
   "cell_type": "code",
   "execution_count": 12,
   "id": "633e7b1c-6e07-47ce-bbc5-644fc9c99a13",
   "metadata": {},
   "outputs": [],
   "source": [
    "n2.add_metabolites({AA:-9.09,Biomass:1})"
   ]
  },
  {
   "cell_type": "code",
   "execution_count": 13,
   "id": "9faf9523-50c7-4dcd-804c-d2dae5443612",
   "metadata": {},
   "outputs": [],
   "source": [
    "n3.add_metabolites({Biomass:-1})"
   ]
  },
  {
   "cell_type": "code",
   "execution_count": 14,
   "id": "01b63a00-bf37-4486-a2ff-2410700f690c",
   "metadata": {},
   "outputs": [],
   "source": [
    "model.add_reactions([n0,n1,n2,n3])"
   ]
  },
  {
   "cell_type": "code",
   "execution_count": 15,
   "id": "150b989f-c5b0-417c-9f97-34bd7c08972d",
   "metadata": {},
   "outputs": [],
   "source": [
    "model.objective='n3'"
   ]
  },
  {
   "cell_type": "code",
   "execution_count": 16,
   "id": "e3b6fee7-40f5-42ba-87ae-498b6683d976",
   "metadata": {},
   "outputs": [
    {
     "data": {
      "text/html": [
       "<strong><em>Optimal</em> solution with objective value 0.110</strong><br><div>\n",
       "<style scoped>\n",
       "    .dataframe tbody tr th:only-of-type {\n",
       "        vertical-align: middle;\n",
       "    }\n",
       "\n",
       "    .dataframe tbody tr th {\n",
       "        vertical-align: top;\n",
       "    }\n",
       "\n",
       "    .dataframe thead th {\n",
       "        text-align: right;\n",
       "    }\n",
       "</style>\n",
       "<table border=\"1\" class=\"dataframe\">\n",
       "  <thead>\n",
       "    <tr style=\"text-align: right;\">\n",
       "      <th></th>\n",
       "      <th>fluxes</th>\n",
       "      <th>reduced_costs</th>\n",
       "    </tr>\n",
       "  </thead>\n",
       "  <tbody>\n",
       "    <tr>\n",
       "      <th>n0</th>\n",
       "      <td>1.000000</td>\n",
       "      <td>0.220022</td>\n",
       "    </tr>\n",
       "    <tr>\n",
       "      <th>n1</th>\n",
       "      <td>1.000000</td>\n",
       "      <td>0.000000</td>\n",
       "    </tr>\n",
       "    <tr>\n",
       "      <th>n2</th>\n",
       "      <td>0.110011</td>\n",
       "      <td>0.000000</td>\n",
       "    </tr>\n",
       "    <tr>\n",
       "      <th>n3</th>\n",
       "      <td>0.110011</td>\n",
       "      <td>0.000000</td>\n",
       "    </tr>\n",
       "  </tbody>\n",
       "</table>\n",
       "</div>"
      ],
      "text/plain": [
       "<Solution 0.110 at 0x24d1bf12af0>"
      ]
     },
     "execution_count": 16,
     "metadata": {},
     "output_type": "execute_result"
    }
   ],
   "source": [
    "model.optimize()"
   ]
  },
  {
   "cell_type": "code",
   "execution_count": 17,
   "id": "e42ef417-1b74-495d-8260-81a299018b35",
   "metadata": {},
   "outputs": [
    {
     "data": {
      "text/html": [
       "<h3>Objective</h3><p>1.0 n3 = 0.11001100110011001</p><h4>Uptake</h4><table border=\"1\" class=\"dataframe\">\n",
       "  <thead>\n",
       "    <tr style=\"text-align: right;\">\n",
       "      <th>Metabolite</th>\n",
       "      <th>Reaction</th>\n",
       "      <th>Flux</th>\n",
       "      <th>C-Number</th>\n",
       "      <th>C-Flux</th>\n",
       "    </tr>\n",
       "  </thead>\n",
       "  <tbody>\n",
       "    <tr>\n",
       "      <td>glc</td>\n",
       "      <td>n0</td>\n",
       "      <td>1</td>\n",
       "      <td>0</td>\n",
       "      <td>0.00%</td>\n",
       "    </tr>\n",
       "  </tbody>\n",
       "</table><h4>Secretion</h4><table border=\"1\" class=\"dataframe\">\n",
       "  <thead>\n",
       "    <tr style=\"text-align: right;\">\n",
       "      <th>Metabolite</th>\n",
       "      <th>Reaction</th>\n",
       "      <th>Flux</th>\n",
       "      <th>C-Number</th>\n",
       "      <th>C-Flux</th>\n",
       "    </tr>\n",
       "  </thead>\n",
       "  <tbody>\n",
       "    <tr>\n",
       "      <td>Biomass</td>\n",
       "      <td>n3</td>\n",
       "      <td>-0.11</td>\n",
       "      <td>0</td>\n",
       "      <td>0.00%</td>\n",
       "    </tr>\n",
       "  </tbody>\n",
       "</table>"
      ],
      "text/plain": [
       "<cobra.summary.model_summary.ModelSummary at 0x24d14b530d0>"
      ]
     },
     "execution_count": 17,
     "metadata": {},
     "output_type": "execute_result"
    }
   ],
   "source": [
    "model.summary()"
   ]
  }
 ],
 "metadata": {
  "kernelspec": {
   "display_name": "Python 3 (ipykernel)",
   "language": "python",
   "name": "python3"
  },
  "language_info": {
   "codemirror_mode": {
    "name": "ipython",
    "version": 3
   },
   "file_extension": ".py",
   "mimetype": "text/x-python",
   "name": "python",
   "nbconvert_exporter": "python",
   "pygments_lexer": "ipython3",
   "version": "3.9.7"
  }
 },
 "nbformat": 4,
 "nbformat_minor": 5
}
